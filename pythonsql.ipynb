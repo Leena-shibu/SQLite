{
 "cells": [
  {
   "cell_type": "code",
   "execution_count": null,
   "metadata": {},
   "outputs": [],
   "source": [
    "import sqlite3\n",
    "\n",
    "conn = sqlite3.connect('chinook.db')\n",
    "\n",
    "\n",
    "conn.execute('''CREATE TABLE COMPANY1\n",
    "         (ID INT PRIMARY KEY     NOT NULL,\n",
    "         NAME           TEXT    NOT NULL,\n",
    "         AGE            INT     NOT NULL,\n",
    "         ADDRESS        CHAR(50),\n",
    "         SALARY         REAL);''')\n",
    "\n",
    "\n",
    "conn.close()"
   ]
  },
  {
   "cell_type": "markdown",
   "metadata": {},
   "source": [
    "# Please open .ipynb file in same folder as your .db file \n"
   ]
  },
  {
   "cell_type": "code",
   "execution_count": 21,
   "metadata": {},
   "outputs": [],
   "source": [
    "import sqlite3\n",
    "\n",
    "conn = sqlite3.connect('chinook.db')\n",
    "\n",
    "\n",
    "conn.execute(\"INSERT INTO COMPANY1 (ID,NAME,AGE,ADDRESS,SALARY) \\\n",
    "      VALUES (1, 'Paul', 32, 'California', 20000.00 )\");\n",
    "\n",
    "conn.execute(\"INSERT INTO COMPANY1 (ID,NAME,AGE,ADDRESS,SALARY) \\\n",
    "      VALUES (2, 'Allen', 25, 'Texas', 15000.00 )\");\n",
    "\n",
    "conn.execute(\"INSERT INTO COMPANY1 (ID,NAME,AGE,ADDRESS,SALARY) \\\n",
    "      VALUES (3, 'Teddy', 23, 'Norway', 20000.00 )\");\n",
    "\n",
    "conn.execute(\"INSERT INTO COMPANY1 (ID,NAME,AGE,ADDRESS,SALARY) \\\n",
    "      VALUES (4, 'Mark', 25, 'Rich-Mond ', 65000.00 )\");\n",
    "\n",
    "conn.commit()\n",
    "\n",
    "conn.close()"
   ]
  },
  {
   "cell_type": "code",
   "execution_count": 80,
   "metadata": {},
   "outputs": [
    {
     "name": "stdout",
     "output_type": "stream",
     "text": [
      "ID =  1\n",
      "NAME =  Paul\n",
      "ADDRESS =  California\n",
      "SALARY =  20000.0 \n",
      "\n",
      "ID =  2\n",
      "NAME =  Allen\n",
      "ADDRESS =  Texas\n",
      "SALARY =  15000.0 \n",
      "\n",
      "ID =  3\n",
      "NAME =  Teddy\n",
      "ADDRESS =  Norway\n",
      "SALARY =  20000.0 \n",
      "\n",
      "ID =  4\n",
      "NAME =  Mark\n",
      "ADDRESS =  Rich-Mond \n",
      "SALARY =  65000.0 \n",
      "\n"
     ]
    }
   ],
   "source": [
    "import sqlite3\n",
    "import pandas as pd\n",
    "\n",
    "conn = sqlite3.connect('chinook.db')\n",
    "\n",
    "\n",
    "cursor = conn.execute(\"SELECT id, name, address, salary from COMPANY1\")\n",
    "for row in cursor:\n",
    "   print(\"ID = \", row[0]);\n",
    "   print(\"NAME = \", row[1]);\n",
    "   print(\"ADDRESS = \", row[2]);\n",
    "   print(\"SALARY = \", row[3], \"\\n\");\n",
    "\n",
    "\n",
    "conn.close()"
   ]
  },
  {
   "cell_type": "code",
   "execution_count": 81,
   "metadata": {},
   "outputs": [
    {
     "data": {
      "text/html": [
       "<div>\n",
       "<style scoped>\n",
       "    .dataframe tbody tr th:only-of-type {\n",
       "        vertical-align: middle;\n",
       "    }\n",
       "\n",
       "    .dataframe tbody tr th {\n",
       "        vertical-align: top;\n",
       "    }\n",
       "\n",
       "    .dataframe thead th {\n",
       "        text-align: right;\n",
       "    }\n",
       "</style>\n",
       "<table border=\"1\" class=\"dataframe\">\n",
       "  <thead>\n",
       "    <tr style=\"text-align: right;\">\n",
       "      <th></th>\n",
       "      <th>ID</th>\n",
       "      <th>NAME</th>\n",
       "      <th>ADDRESS</th>\n",
       "      <th>SALARY</th>\n",
       "    </tr>\n",
       "  </thead>\n",
       "  <tbody>\n",
       "    <tr>\n",
       "      <th>0</th>\n",
       "      <td>1</td>\n",
       "      <td>Paul</td>\n",
       "      <td>California</td>\n",
       "      <td>20000.0</td>\n",
       "    </tr>\n",
       "    <tr>\n",
       "      <th>1</th>\n",
       "      <td>2</td>\n",
       "      <td>Allen</td>\n",
       "      <td>Texas</td>\n",
       "      <td>15000.0</td>\n",
       "    </tr>\n",
       "    <tr>\n",
       "      <th>2</th>\n",
       "      <td>3</td>\n",
       "      <td>Teddy</td>\n",
       "      <td>Norway</td>\n",
       "      <td>20000.0</td>\n",
       "    </tr>\n",
       "    <tr>\n",
       "      <th>3</th>\n",
       "      <td>4</td>\n",
       "      <td>Mark</td>\n",
       "      <td>Rich-Mond</td>\n",
       "      <td>65000.0</td>\n",
       "    </tr>\n",
       "  </tbody>\n",
       "</table>\n",
       "</div>"
      ],
      "text/plain": [
       "   ID   NAME     ADDRESS   SALARY\n",
       "0   1   Paul  California  20000.0\n",
       "1   2  Allen       Texas  15000.0\n",
       "2   3  Teddy      Norway  20000.0\n",
       "3   4   Mark  Rich-Mond   65000.0"
      ]
     },
     "execution_count": 81,
     "metadata": {},
     "output_type": "execute_result"
    }
   ],
   "source": [
    "import pandas as pd\n",
    "import sqlite3\n",
    "\n",
    "conn = sqlite3.connect('chinook.db')\n",
    "query = \"SELECT id, name, address, salary from COMPANY1;\"\n",
    "\n",
    "df = pd.read_sql_query(query,conn)\n",
    "\n",
    "df\n"
   ]
  },
  {
   "cell_type": "code",
   "execution_count": 82,
   "metadata": {},
   "outputs": [
    {
     "data": {
      "text/html": [
       "<div>\n",
       "<style scoped>\n",
       "    .dataframe tbody tr th:only-of-type {\n",
       "        vertical-align: middle;\n",
       "    }\n",
       "\n",
       "    .dataframe tbody tr th {\n",
       "        vertical-align: top;\n",
       "    }\n",
       "\n",
       "    .dataframe thead th {\n",
       "        text-align: right;\n",
       "    }\n",
       "</style>\n",
       "<table border=\"1\" class=\"dataframe\">\n",
       "  <thead>\n",
       "    <tr style=\"text-align: right;\">\n",
       "      <th></th>\n",
       "      <th>empid</th>\n",
       "      <th>ename</th>\n",
       "      <th>sal</th>\n",
       "      <th>deptid</th>\n",
       "      <th>jobid</th>\n",
       "      <th>comm</th>\n",
       "      <th>hire_date</th>\n",
       "      <th>mgr_id</th>\n",
       "    </tr>\n",
       "  </thead>\n",
       "  <tbody>\n",
       "    <tr>\n",
       "      <th>0</th>\n",
       "      <td>1</td>\n",
       "      <td>Susan</td>\n",
       "      <td>25000</td>\n",
       "      <td>10</td>\n",
       "      <td>1</td>\n",
       "      <td>NULL</td>\n",
       "      <td>07-08-1998</td>\n",
       "      <td>NULL</td>\n",
       "    </tr>\n",
       "    <tr>\n",
       "      <th>1</th>\n",
       "      <td>2</td>\n",
       "      <td>Gray</td>\n",
       "      <td>18000</td>\n",
       "      <td>10</td>\n",
       "      <td>2</td>\n",
       "      <td>0.2</td>\n",
       "      <td>08-09-2020</td>\n",
       "      <td>1</td>\n",
       "    </tr>\n",
       "    <tr>\n",
       "      <th>2</th>\n",
       "      <td>3</td>\n",
       "      <td>Nathan</td>\n",
       "      <td>15000</td>\n",
       "      <td>20</td>\n",
       "      <td>2</td>\n",
       "      <td>0.2</td>\n",
       "      <td>03-04-2001</td>\n",
       "      <td>1</td>\n",
       "    </tr>\n",
       "    <tr>\n",
       "      <th>3</th>\n",
       "      <td>4</td>\n",
       "      <td>Ethan</td>\n",
       "      <td>12000</td>\n",
       "      <td>NULL</td>\n",
       "      <td>3</td>\n",
       "      <td>0.3</td>\n",
       "      <td>07-05-2000</td>\n",
       "      <td>3</td>\n",
       "    </tr>\n",
       "  </tbody>\n",
       "</table>\n",
       "</div>"
      ],
      "text/plain": [
       "   empid   ename    sal deptid  jobid  comm   hire_date mgr_id\n",
       "0      1   Susan  25000     10      1  NULL  07-08-1998   NULL\n",
       "1      2    Gray  18000     10      2   0.2  08-09-2020      1\n",
       "2      3  Nathan  15000     20      2   0.2  03-04-2001      1\n",
       "3      4   Ethan  12000   NULL      3   0.3  07-05-2000      3"
      ]
     },
     "execution_count": 82,
     "metadata": {},
     "output_type": "execute_result"
    }
   ],
   "source": [
    "import pandas as pd\n",
    "import sqlite3\n",
    "\n",
    "conn = sqlite3.connect('chinook.db')\n",
    "query = \"select * from emp;\"\n",
    "\n",
    "df3 = pd.read_sql_query(query,conn)\n",
    "\n",
    "df3"
   ]
  },
  {
   "cell_type": "code",
   "execution_count": 83,
   "metadata": {},
   "outputs": [],
   "source": [
    "\n",
    "conn.close()"
   ]
  },
  {
   "cell_type": "code",
   "execution_count": 100,
   "metadata": {},
   "outputs": [],
   "source": [
    "import sqlite3 as lite\n",
    "import seaborn as sns"
   ]
  },
  {
   "cell_type": "code",
   "execution_count": 92,
   "metadata": {},
   "outputs": [],
   "source": [
    "import sys"
   ]
  },
  {
   "cell_type": "code",
   "execution_count": 101,
   "metadata": {},
   "outputs": [],
   "source": [
    "con = lite.connect('chinook.db')"
   ]
  },
  {
   "cell_type": "code",
   "execution_count": 102,
   "metadata": {
    "scrolled": true
   },
   "outputs": [
    {
     "name": "stdout",
     "output_type": "stream",
     "text": [
      "    Passenger_No first_name    last_name  survived  pclass     sex  age  \\\n",
      "0              1     Steven         King         0       3    male   22   \n",
      "1              2       Ross      Kochhar         1       1  female   38   \n",
      "2              3       Alex        Urman         1       3  female   26   \n",
      "3              4      Bruce         Popp         1       1  female   35   \n",
      "4              5      David     Raphaely         0       3    male   35   \n",
      "5              6      Nancy         Khoo         0       3    male   27   \n",
      "6              7       John        Baida         0       1    male   54   \n",
      "7              8     Daniel        Weiss         0       3    male    2   \n",
      "8              9      Sigal     Kaufling         1       3  female   27   \n",
      "9             10       Adam      Vollman         1       2  female   14   \n",
      "10            11     Mathew       Himuro         1       3  female    4   \n",
      "11            12     Harvey  Mikkilineni         1       1  female   58   \n",
      "12            13      Kevin       Rogers         0       3    male   20   \n",
      "13            14      Julia        Patel         0       3    male   39   \n",
      "14            15      Irene       Davies         0       3  female   14   \n",
      "15            16      James      Zlotkey         1       2  female   55   \n",
      "16            17      Jason    Bernstein         0       3    male    2   \n",
      "17            18      Peter         Hall         1       2    male   34   \n",
      "18            19     Sartha        Sully         0       3  female   31   \n",
      "19            20    William        Smith         1       3  female   29   \n",
      "20            21       Jack       Greene         0       2    male   35   \n",
      "\n",
      "    parch   fare embarked   class    who adult_male deck  embark_town alive  \\\n",
      "0       0  24000        S   Third    man       TRUE    A  Southampton    no   \n",
      "1       0  50806        C   First  woman      FALSE    C    Cherbourg   yes   \n",
      "2       0  54071        S   Third  woman      FALSE    B  Southampton   yes   \n",
      "3       0  26969        S   First  woman      FALSE    C  Southampton   yes   \n",
      "4       0  34048        S   Third    man       TRUE    C  Southampton    no   \n",
      "5       0  46206        Q   Third    man       TRUE    E   Queenstown    no   \n",
      "6       0  63090        S   First    man       TRUE    E  Southampton    no   \n",
      "7       1  56356        S   Third  child      FALSE    G  Southampton    no   \n",
      "8       2  23488        S   Third  woman      FALSE    A  Southampton   yes   \n",
      "9       0  29047        C  Second  child      FALSE    B    Cherbourg   yes   \n",
      "10      1  51428        S   Third  child      FALSE    G  Southampton   yes   \n",
      "11      0  61770        S   First  woman      FALSE    C  Southampton   yes   \n",
      "12      0  30897        S   Third    man       TRUE    C  Southampton    no   \n",
      "13      5  59197        S   Third    man       TRUE    C  Southampton    no   \n",
      "14      0  61211        S   Third  child      FALSE    G  Southampton    no   \n",
      "15      0  43386        S  Second  woman      FALSE    D  Southampton   yes   \n",
      "16      1  27978        Q   Third  child      FALSE    G   Queenstown    no   \n",
      "17      0  46632        S  Second    man       TRUE    B  Southampton   yes   \n",
      "18      0  66662        S   Third  woman      FALSE    D  Southampton    no   \n",
      "19      0  38628        C   Third  woman      FALSE    D    Cherbourg   yes   \n",
      "20      0  20068        S  Second    man       TRUE    G  Southampton    no   \n",
      "\n",
      "    alone  DECK_NUMBER  \n",
      "0   FALSE           90  \n",
      "1   FALSE           90  \n",
      "2    TRUE           90  \n",
      "3   FALSE           60  \n",
      "4    TRUE           60  \n",
      "5    TRUE           70  \n",
      "6    TRUE           70  \n",
      "7   FALSE           70  \n",
      "8   FALSE           60  \n",
      "9   FALSE           90  \n",
      "10  FALSE          100  \n",
      "11   TRUE          100  \n",
      "12   TRUE           70  \n",
      "13  FALSE           80  \n",
      "14   TRUE           80  \n",
      "15   TRUE           80  \n",
      "16  FALSE          100  \n",
      "17   TRUE           80  \n",
      "18  FALSE           60  \n",
      "19   TRUE           70  \n",
      "20   TRUE           90  \n"
     ]
    }
   ],
   "source": [
    "conn = sqlite3.connect('chinook.db')\n",
    "query = \"select * from titanic;\"\n",
    "df3 = pd.read_sql_query(query,conn)\n",
    "print(df3)\n",
    "\n"
   ]
  },
  {
   "cell_type": "code",
   "execution_count": 105,
   "metadata": {},
   "outputs": [
    {
     "data": {
      "text/plain": [
       "<seaborn.axisgrid.FacetGrid at 0x20ed4827048>"
      ]
     },
     "execution_count": 105,
     "metadata": {},
     "output_type": "execute_result"
    },
    {
     "data": {
      "image/png": "[encoded data removed]",
      "text/plain": [
       "<Figure size 360x360 with 1 Axes>"
      ]
     },
     "metadata": {
      "needs_background": "light"
     },
     "output_type": "display_data"
    }
   ],
   "source": [
    "\n",
    "\n",
    "###Who were the passengers on the titanic? (What age, gender, class etc)\n",
    "\n",
    "###Gender Plot\n",
    "sns.factorplot('sex',data=df3,kind='count')"
   ]
  },
  {
   "cell_type": "code",
   "execution_count": 107,
   "metadata": {},
   "outputs": [
    {
     "data": {
      "text/plain": [
       "<seaborn.axisgrid.FacetGrid at 0x20ed6606e08>"
      ]
     },
     "execution_count": 107,
     "metadata": {},
     "output_type": "execute_result"
    },
    {
     "data": {
      "image/png": "[encoded data removed]",
      "text/plain": [
       "<Figure size 360x360 with 1 Axes>"
      ]
     },
     "metadata": {
      "needs_background": "light"
     },
     "output_type": "display_data"
    }
   ],
   "source": [
    "### Class plot\n",
    "sns.factorplot('class',data=df3,kind='count')"
   ]
  },
  {
   "cell_type": "code",
   "execution_count": 109,
   "metadata": {},
   "outputs": [
    {
     "data": {
      "text/plain": [
       "<seaborn.axisgrid.FacetGrid at 0x20ed66474c8>"
      ]
     },
     "execution_count": 109,
     "metadata": {},
     "output_type": "execute_result"
    },
    {
     "data": {
      "image/png": "[encoded data removed]",
      "text/plain": [
       "<Figure size 430.5x360 with 1 Axes>"
      ]
     },
     "metadata": {
      "needs_background": "light"
     },
     "output_type": "display_data"
    }
   ],
   "source": [
    "\n",
    "\n",
    "###Interesting! More passengers are from class Three. Now lets find the gender ration among the classes\n",
    "\n",
    "sns.factorplot('class',data=df3,hue='sex',kind='count')\n",
    "\n"
   ]
  },
  {
   "cell_type": "code",
   "execution_count": null,
   "metadata": {},
   "outputs": [],
   "source": []
  }
 ],
 "metadata": {
  "kernelspec": {
   "display_name": "Python 3",
   "language": "python",
   "name": "python3"
  },
  "language_info": {
   "codemirror_mode": {
    "name": "ipython",
    "version": 3
   },
   "file_extension": ".py",
   "mimetype": "text/x-python",
   "name": "python",
   "nbconvert_exporter": "python",
   "pygments_lexer": "ipython3",
   "version": "3.7.6"
  }
 },
 "nbformat": 4,
 "nbformat_minor": 4
}
